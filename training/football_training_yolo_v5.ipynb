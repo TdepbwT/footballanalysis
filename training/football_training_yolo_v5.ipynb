{
 "cells": [
  {
   "cell_type": "code",
   "outputs": [
    {
     "name": "stdout",
     "output_type": "stream",
     "text": [
      "Collecting roboflow\n",
      "  Obtaining dependency information for roboflow from https://files.pythonhosted.org/packages/e7/62/819d92dfb337a4be424eee4ed8c52974f9bbb9616a91a4f432071cbccdba/roboflow-1.1.29-py3-none-any.whl.metadata\n",
      "  Downloading roboflow-1.1.29-py3-none-any.whl.metadata (9.3 kB)\n",
      "Collecting certifi==2023.7.22 (from roboflow)\n",
      "  Obtaining dependency information for certifi==2023.7.22 from https://files.pythonhosted.org/packages/4c/dd/2234eab22353ffc7d94e8d13177aaa050113286e93e7b40eae01fbf7c3d9/certifi-2023.7.22-py3-none-any.whl.metadata\n",
      "  Downloading certifi-2023.7.22-py3-none-any.whl.metadata (2.2 kB)\n",
      "Collecting chardet==4.0.0 (from roboflow)\n",
      "  Obtaining dependency information for chardet==4.0.0 from https://files.pythonhosted.org/packages/19/c7/fa589626997dd07bd87d9269342ccb74b1720384a4d739a1872bd84fbe68/chardet-4.0.0-py2.py3-none-any.whl.metadata\n",
      "  Downloading chardet-4.0.0-py2.py3-none-any.whl.metadata (3.5 kB)\n",
      "Collecting cycler==0.10.0 (from roboflow)\n",
      "  Obtaining dependency information for cycler==0.10.0 from https://files.pythonhosted.org/packages/f7/d2/e07d3ebb2bd7af696440ce7e754c59dd546ffe1bbe732c8ab68b9c834e61/cycler-0.10.0-py2.py3-none-any.whl.metadata\n",
      "  Downloading cycler-0.10.0-py2.py3-none-any.whl.metadata (722 bytes)\n",
      "Collecting idna==2.10 (from roboflow)\n",
      "  Obtaining dependency information for idna==2.10 from https://files.pythonhosted.org/packages/a2/38/928ddce2273eaa564f6f50de919327bf3a00f091b5baba8dfa9460f3a8a8/idna-2.10-py2.py3-none-any.whl.metadata\n",
      "  Downloading idna-2.10-py2.py3-none-any.whl.metadata (9.1 kB)\n",
      "Requirement already satisfied: kiwisolver>=1.3.1 in c:\\users\\david adeoyo\\.venv\\lib\\site-packages (from roboflow) (1.4.5)\n",
      "Requirement already satisfied: matplotlib in c:\\users\\david adeoyo\\.venv\\lib\\site-packages (from roboflow) (3.9.0)\n",
      "Requirement already satisfied: numpy>=1.18.5 in c:\\users\\david adeoyo\\.venv\\lib\\site-packages (from roboflow) (1.26.4)\n",
      "Collecting opencv-python-headless==4.8.0.74 (from roboflow)\n",
      "  Obtaining dependency information for opencv-python-headless==4.8.0.74 from https://files.pythonhosted.org/packages/60/e7/a6dedca760db7a4686fd3b6053487ad4ad4d8f0591295dc8a9cf35269c42/opencv_python_headless-4.8.0.74-cp37-abi3-win_amd64.whl.metadata\n",
      "  Downloading opencv_python_headless-4.8.0.74-cp37-abi3-win_amd64.whl.metadata (19 kB)\n",
      "Requirement already satisfied: Pillow>=7.1.2 in c:\\users\\david adeoyo\\.venv\\lib\\site-packages (from roboflow) (10.3.0)\n",
      "Requirement already satisfied: python-dateutil in c:\\users\\david adeoyo\\.venv\\lib\\site-packages (from roboflow) (2.9.0.post0)\n",
      "Collecting python-dotenv (from roboflow)\n",
      "  Obtaining dependency information for python-dotenv from https://files.pythonhosted.org/packages/6a/3e/b68c118422ec867fa7ab88444e1274aa40681c606d59ac27de5a5588f082/python_dotenv-1.0.1-py3-none-any.whl.metadata\n",
      "  Downloading python_dotenv-1.0.1-py3-none-any.whl.metadata (23 kB)\n",
      "Requirement already satisfied: requests in c:\\users\\david adeoyo\\.venv\\lib\\site-packages (from roboflow) (2.32.2)\n",
      "Requirement already satisfied: six in c:\\users\\david adeoyo\\.venv\\lib\\site-packages (from roboflow) (1.16.0)\n",
      "Requirement already satisfied: urllib3>=1.26.6 in c:\\users\\david adeoyo\\.venv\\lib\\site-packages (from roboflow) (2.2.1)\n",
      "Requirement already satisfied: tqdm>=4.41.0 in c:\\users\\david adeoyo\\.venv\\lib\\site-packages (from roboflow) (4.66.4)\n",
      "Requirement already satisfied: PyYAML>=5.3.1 in c:\\users\\david adeoyo\\.venv\\lib\\site-packages (from roboflow) (6.0.1)\n",
      "Collecting requests-toolbelt (from roboflow)\n",
      "  Obtaining dependency information for requests-toolbelt from https://files.pythonhosted.org/packages/3f/51/d4db610ef29373b879047326cbf6fa98b6c1969d6f6dc423279de2b1be2c/requests_toolbelt-1.0.0-py2.py3-none-any.whl.metadata\n",
      "  Downloading requests_toolbelt-1.0.0-py2.py3-none-any.whl.metadata (14 kB)\n",
      "Collecting python-magic (from roboflow)\n",
      "  Obtaining dependency information for python-magic from https://files.pythonhosted.org/packages/6c/73/9f872cb81fc5c3bb48f7227872c28975f998f3e7c2b1c16e95e6432bbb90/python_magic-0.4.27-py2.py3-none-any.whl.metadata\n",
      "  Downloading python_magic-0.4.27-py2.py3-none-any.whl.metadata (5.8 kB)\n",
      "Requirement already satisfied: colorama in c:\\users\\david adeoyo\\.venv\\lib\\site-packages (from tqdm>=4.41.0->roboflow) (0.4.6)\n",
      "Requirement already satisfied: contourpy>=1.0.1 in c:\\users\\david adeoyo\\.venv\\lib\\site-packages (from matplotlib->roboflow) (1.2.1)\n",
      "Requirement already satisfied: fonttools>=4.22.0 in c:\\users\\david adeoyo\\.venv\\lib\\site-packages (from matplotlib->roboflow) (4.51.0)\n",
      "Requirement already satisfied: packaging>=20.0 in c:\\users\\david adeoyo\\.venv\\lib\\site-packages (from matplotlib->roboflow) (24.0)\n",
      "Requirement already satisfied: pyparsing>=2.3.1 in c:\\users\\david adeoyo\\.venv\\lib\\site-packages (from matplotlib->roboflow) (3.1.2)\n",
      "Requirement already satisfied: charset-normalizer<4,>=2 in c:\\users\\david adeoyo\\.venv\\lib\\site-packages (from requests->roboflow) (3.3.2)\n",
      "Downloading roboflow-1.1.29-py3-none-any.whl (74 kB)\n",
      "   ---------------------------------------- 0.0/74.9 kB ? eta -:--:--\n",
      "   ---------------------------------------- 74.9/74.9 kB 4.0 MB/s eta 0:00:00\n",
      "Downloading certifi-2023.7.22-py3-none-any.whl (158 kB)\n",
      "   ---------------------------------------- 0.0/158.3 kB ? eta -:--:--\n",
      "   ---------------------------------------- 158.3/158.3 kB 9.9 MB/s eta 0:00:00\n",
      "Downloading chardet-4.0.0-py2.py3-none-any.whl (178 kB)\n",
      "   ---------------------------------------- 0.0/178.7 kB ? eta -:--:--\n",
      "   ---------------------------------------- 178.7/178.7 kB ? eta 0:00:00\n",
      "Downloading cycler-0.10.0-py2.py3-none-any.whl (6.5 kB)\n",
      "Downloading idna-2.10-py2.py3-none-any.whl (58 kB)\n",
      "   ---------------------------------------- 0.0/58.8 kB ? eta -:--:--\n",
      "   ---------------------------------------- 58.8/58.8 kB ? eta 0:00:00\n",
      "Downloading opencv_python_headless-4.8.0.74-cp37-abi3-win_amd64.whl (38.0 MB)\n",
      "   ---------------------------------------- 0.0/38.0 MB ? eta -:--:--\n",
      "    --------------------------------------- 0.6/38.0 MB 19.5 MB/s eta 0:00:02\n",
      "   - -------------------------------------- 1.5/38.0 MB 15.6 MB/s eta 0:00:03\n",
      "   -- ------------------------------------- 2.2/38.0 MB 17.4 MB/s eta 0:00:03\n",
      "   --- ------------------------------------ 3.0/38.0 MB 17.3 MB/s eta 0:00:03\n",
      "   --- ------------------------------------ 3.3/38.0 MB 15.0 MB/s eta 0:00:03\n",
      "   ---- ----------------------------------- 4.2/38.0 MB 15.8 MB/s eta 0:00:03\n",
      "   ----- ---------------------------------- 5.0/38.0 MB 16.0 MB/s eta 0:00:03\n",
      "   ------ --------------------------------- 5.8/38.0 MB 16.1 MB/s eta 0:00:02\n",
      "   ------- -------------------------------- 6.6/38.0 MB 16.3 MB/s eta 0:00:02\n",
      "   ------- -------------------------------- 7.2/38.0 MB 15.8 MB/s eta 0:00:02\n",
      "   -------- ------------------------------- 8.0/38.0 MB 15.9 MB/s eta 0:00:02\n",
      "   --------- ------------------------------ 8.7/38.0 MB 15.9 MB/s eta 0:00:02\n",
      "   ---------- ----------------------------- 9.6/38.0 MB 16.1 MB/s eta 0:00:02\n",
      "   ---------- ----------------------------- 10.4/38.0 MB 16.0 MB/s eta 0:00:02\n",
      "   ----------- ---------------------------- 11.2/38.0 MB 16.4 MB/s eta 0:00:02\n",
      "   ------------ --------------------------- 12.0/38.0 MB 16.4 MB/s eta 0:00:02\n",
      "   ------------- -------------------------- 12.8/38.0 MB 16.8 MB/s eta 0:00:02\n",
      "   -------------- ------------------------- 13.5/38.0 MB 16.8 MB/s eta 0:00:02\n",
      "   -------------- ------------------------- 14.1/38.0 MB 16.4 MB/s eta 0:00:02\n",
      "   --------------- ------------------------ 14.9/38.0 MB 16.8 MB/s eta 0:00:02\n",
      "   ---------------- ----------------------- 15.6/38.0 MB 16.8 MB/s eta 0:00:02\n",
      "   ----------------- ---------------------- 16.4/38.0 MB 16.8 MB/s eta 0:00:02\n",
      "   ------------------ --------------------- 17.2/38.0 MB 16.8 MB/s eta 0:00:02\n",
      "   ------------------ --------------------- 18.0/38.0 MB 16.8 MB/s eta 0:00:02\n",
      "   ------------------- -------------------- 18.7/38.0 MB 16.8 MB/s eta 0:00:02\n",
      "   -------------------- ------------------- 19.5/38.0 MB 16.8 MB/s eta 0:00:02\n",
      "   --------------------- ------------------ 20.2/38.0 MB 16.4 MB/s eta 0:00:02\n",
      "   --------------------- ------------------ 20.8/38.0 MB 16.4 MB/s eta 0:00:02\n",
      "   ---------------------- ----------------- 21.3/38.0 MB 15.6 MB/s eta 0:00:02\n",
      "   ----------------------- ---------------- 22.0/38.0 MB 15.6 MB/s eta 0:00:02\n",
      "   ----------------------- ---------------- 22.6/38.0 MB 15.2 MB/s eta 0:00:02\n",
      "   ------------------------ --------------- 23.0/38.0 MB 15.2 MB/s eta 0:00:01\n",
      "   ------------------------ --------------- 23.1/38.0 MB 14.2 MB/s eta 0:00:02\n",
      "   ------------------------ --------------- 23.5/38.0 MB 13.6 MB/s eta 0:00:02\n",
      "   ------------------------- -------------- 24.1/38.0 MB 13.9 MB/s eta 0:00:01\n",
      "   -------------------------- ------------- 24.7/38.0 MB 13.6 MB/s eta 0:00:01\n",
      "   -------------------------- ------------- 25.5/38.0 MB 13.6 MB/s eta 0:00:01\n",
      "   --------------------------- ------------ 26.3/38.0 MB 13.6 MB/s eta 0:00:01\n",
      "   ---------------------------- ----------- 27.1/38.0 MB 13.6 MB/s eta 0:00:01\n",
      "   ----------------------------- ---------- 28.0/38.0 MB 13.6 MB/s eta 0:00:01\n",
      "   ------------------------------ --------- 28.6/38.0 MB 13.4 MB/s eta 0:00:01\n",
      "   ------------------------------ --------- 29.4/38.0 MB 13.6 MB/s eta 0:00:01\n",
      "   ------------------------------- -------- 30.2/38.0 MB 13.6 MB/s eta 0:00:01\n",
      "   -------------------------------- ------- 31.0/38.0 MB 13.9 MB/s eta 0:00:01\n",
      "   --------------------------------- ------ 31.9/38.0 MB 14.2 MB/s eta 0:00:01\n",
      "   ---------------------------------- ----- 32.5/38.0 MB 14.6 MB/s eta 0:00:01\n",
      "   ---------------------------------- ----- 33.1/38.0 MB 14.2 MB/s eta 0:00:01\n",
      "   ----------------------------------- ---- 33.9/38.0 MB 16.4 MB/s eta 0:00:01\n",
      "   ------------------------------------ --- 34.5/38.0 MB 16.0 MB/s eta 0:00:01\n",
      "   ------------------------------------- -- 35.4/38.0 MB 16.4 MB/s eta 0:00:01\n",
      "   -------------------------------------- - 36.2/38.0 MB 16.4 MB/s eta 0:00:01\n",
      "   ---------------------------------------  37.1/38.0 MB 16.8 MB/s eta 0:00:01\n",
      "   ---------------------------------------  37.8/38.0 MB 16.8 MB/s eta 0:00:01\n",
      "   ---------------------------------------  37.9/38.0 MB 16.4 MB/s eta 0:00:01\n",
      "   ---------------------------------------  37.9/38.0 MB 16.4 MB/s eta 0:00:01\n",
      "   ---------------------------------------  37.9/38.0 MB 16.4 MB/s eta 0:00:01\n",
      "   ---------------------------------------- 38.0/38.0 MB 12.6 MB/s eta 0:00:00\n",
      "Downloading python_dotenv-1.0.1-py3-none-any.whl (19 kB)\n",
      "Downloading python_magic-0.4.27-py2.py3-none-any.whl (13 kB)\n",
      "Downloading requests_toolbelt-1.0.0-py2.py3-none-any.whl (54 kB)\n",
      "   ---------------------------------------- 0.0/54.5 kB ? eta -:--:--\n",
      "   ---------------------------------------- 54.5/54.5 kB 2.9 MB/s eta 0:00:00\n",
      "Installing collected packages: python-magic, python-dotenv, opencv-python-headless, idna, cycler, chardet, certifi, requests-toolbelt, roboflow\n",
      "  Attempting uninstall: idna\n",
      "    Found existing installation: idna 3.7\n",
      "    Uninstalling idna-3.7:\n",
      "      Successfully uninstalled idna-3.7\n",
      "  Attempting uninstall: cycler\n",
      "    Found existing installation: cycler 0.12.1\n",
      "    Uninstalling cycler-0.12.1:\n",
      "      Successfully uninstalled cycler-0.12.1\n",
      "  Attempting uninstall: certifi\n",
      "    Found existing installation: certifi 2024.2.2\n",
      "    Uninstalling certifi-2024.2.2:\n",
      "      Successfully uninstalled certifi-2024.2.2\n",
      "Successfully installed certifi-2023.7.22 chardet-4.0.0 cycler-0.10.0 idna-2.10 opencv-python-headless-4.8.0.74 python-dotenv-1.0.1 python-magic-0.4.27 requests-toolbelt-1.0.0 roboflow-1.1.29\n"
     ]
    },
    {
     "name": "stderr",
     "output_type": "stream",
     "text": [
      "\n",
      "[notice] A new release of pip is available: 23.2.1 -> 24.0\n",
      "[notice] To update, run: python.exe -m pip install --upgrade pip\n"
     ]
    }
   ],
   "source": [
    "!pip install ultralytics\n",
    "!pip install roboflow"
   ],
   "metadata": {
    "collapsed": false,
    "ExecuteTime": {
     "end_time": "2024-05-22T15:18:01.011678Z",
     "start_time": "2024-05-22T15:17:48.621219Z"
    }
   },
   "id": "b4718c668e668d39",
   "execution_count": 1
  },
  {
   "cell_type": "code",
   "outputs": [],
   "source": [],
   "metadata": {
    "collapsed": false,
    "ExecuteTime": {
     "end_time": "2024-05-22T15:18:01.016803Z",
     "start_time": "2024-05-22T15:18:01.013709Z"
    }
   },
   "id": "ab2e151f7196a750",
   "execution_count": 1
  },
  {
   "cell_type": "markdown",
   "source": [
    "Get Dataset from Roboflow"
   ],
   "metadata": {
    "collapsed": false
   },
   "id": "c8c521fde51a5b40"
  },
  {
   "cell_type": "code",
   "outputs": [
    {
     "name": "stdout",
     "output_type": "stream",
     "text": [
      "loading Roboflow workspace...\n",
      "loading Roboflow project...\n"
     ]
    },
    {
     "name": "stderr",
     "output_type": "stream",
     "text": [
      "Downloading Dataset Version Zip in football-players-detection-1 to yolov5pytorch:: 100%|██████████| 148663/148663 [00:08<00:00, 16563.22it/s]"
     ]
    },
    {
     "name": "stdout",
     "output_type": "stream",
     "text": []
    },
    {
     "name": "stderr",
     "output_type": "stream",
     "text": [
      "\n",
      "Extracting Dataset Version Zip to football-players-detection-1 in yolov5pytorch:: 100%|██████████| 1338/1338 [00:02<00:00, 556.04it/s]\n"
     ]
    }
   ],
   "source": [
    "\n",
    "\n",
    "from roboflow import Roboflow\n",
    "rf = Roboflow(api_key=\"b2ozeLvHOIUaW1Hbu3ZX\")\n",
    "project = rf.workspace(\"roboflow-jvuqo\").project(\"football-players-detection-3zvbc\")\n",
    "version = project.version(1)\n",
    "dataset = version.download(\"yolov5\")\n"
   ],
   "metadata": {
    "collapsed": false,
    "ExecuteTime": {
     "end_time": "2024-05-22T15:18:17.605913Z",
     "start_time": "2024-05-22T15:18:01.017809Z"
    }
   },
   "id": "36a0d54216734777",
   "execution_count": 2
  },
  {
   "cell_type": "code",
   "outputs": [],
   "source": [
    "dataset.location"
   ],
   "metadata": {
    "collapsed": false
   },
   "id": "1ce8a804b8bd7df5"
  },
  {
   "cell_type": "code",
   "outputs": [
    {
     "data": {
      "text/plain": "'football-players-detection-1/football-players-detection-1/valid'"
     },
     "execution_count": 3,
     "metadata": {},
     "output_type": "execute_result"
    }
   ],
   "source": [
    "import shutil\n",
    "\n",
    "shutil.move(\"football-players-detection-1/train\",\n",
    "            \"football-players-detection-1/football-players-detection-1/train\"  \n",
    "            )\n",
    "\n",
    "shutil.move(\"football-players-detection-1/test\",\n",
    "            \"football-players-detection-1/football-players-detection-1/test\"  \n",
    "            )\n",
    "\n",
    "shutil.move(\"football-players-detection-1/valid\",\n",
    "            \"football-players-detection-1/football-players-detection-1/valid\"  \n",
    "            )"
   ],
   "metadata": {
    "collapsed": false,
    "ExecuteTime": {
     "end_time": "2024-05-22T15:27:40.371244Z",
     "start_time": "2024-05-22T15:27:38.720720Z"
    }
   },
   "id": "1b956814892664dc",
   "execution_count": 3
  },
  {
   "cell_type": "code",
   "outputs": [],
   "source": [],
   "metadata": {
    "collapsed": false
   },
   "id": "ef4b205051822170"
  },
  {
   "cell_type": "markdown",
   "source": [
    "# Train YOLOv5"
   ],
   "metadata": {
    "collapsed": false
   },
   "id": "900198c1525ff858"
  },
  {
   "cell_type": "code",
   "outputs": [],
   "source": [
    "!yolo task=detect mode=train model=yolov5l.pt data={dataset.location}/data.yaml epochs=100 imgsz=640"
   ],
   "metadata": {
    "collapsed": false
   },
   "id": "b72fbfd63862aef0"
  }
 ],
 "metadata": {
  "kernelspec": {
   "display_name": "Python 3",
   "language": "python",
   "name": "python3"
  },
  "language_info": {
   "codemirror_mode": {
    "name": "ipython",
    "version": 2
   },
   "file_extension": ".py",
   "mimetype": "text/x-python",
   "name": "python",
   "nbconvert_exporter": "python",
   "pygments_lexer": "ipython2",
   "version": "2.7.6"
  }
 },
 "nbformat": 4,
 "nbformat_minor": 5
}
